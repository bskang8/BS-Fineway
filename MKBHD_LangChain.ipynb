{
  "nbformat": 4,
  "nbformat_minor": 0,
  "metadata": {
    "colab": {
      "provenance": [],
      "mount_file_id": "1J2YftMr8MJIiDyklgejH5BnF6TofnV0_",
      "authorship_tag": "ABX9TyPo1tUtVPHAbxyC1Sm3bTfE",
      "include_colab_link": true
    },
    "kernelspec": {
      "name": "python3",
      "display_name": "Python 3"
    },
    "language_info": {
      "name": "python"
    }
  },
  "cells": [
    {
      "cell_type": "markdown",
      "metadata": {
        "id": "view-in-github",
        "colab_type": "text"
      },
      "source": [
        "<a href=\"https://colab.research.google.com/github/bskang8/BS-Fineway/blob/master/MKBHD_LangChain.ipynb\" target=\"_parent\"><img src=\"https://colab.research.google.com/assets/colab-badge.svg\" alt=\"Open In Colab\"/></a>"
      ]
    },
    {
      "cell_type": "code",
      "source": [
        "!pip install langchain -q\n",
        "!pip install openai==0.28 -q"
      ],
      "metadata": {
        "id": "kdMlmZrsigrk"
      },
      "execution_count": 2,
      "outputs": []
    },
    {
      "cell_type": "code",
      "source": [
        "!pip install chromadb -q\n",
        "!pip install chromadb tiktoken -q"
      ],
      "metadata": {
        "id": "Qc1jh-bCMz5u"
      },
      "execution_count": 4,
      "outputs": []
    },
    {
      "cell_type": "code",
      "execution_count": 10,
      "metadata": {
        "id": "G7UnVBSZGY7W"
      },
      "outputs": [],
      "source": [
        "import os\n",
        "\n",
        "from langchain.schema import Document\n",
        "from langchain.embeddings.openai import OpenAIEmbeddings\n",
        "from langchain.vectorstores import Chroma\n",
        "from langchain.chat_models import ChatOpenAI\n",
        "from langchain.chains import RetrievalQA"
      ]
    },
    {
      "cell_type": "code",
      "source": [
        "os.environ[\"OPENAI_API_KEY\"] = \"\""
      ],
      "metadata": {
        "id": "d_i4EGtmRHV_"
      },
      "execution_count": 6,
      "outputs": []
    },
    {
      "cell_type": "markdown",
      "source": [
        "##Text 파일을 chroma DB로 vector화 하기"
      ],
      "metadata": {
        "id": "VdvJkl7IKuQ7"
      }
    },
    {
      "cell_type": "code",
      "source": [
        "## 1. Text 불러들이기\n",
        "text_path = '/content/drive/MyDrive/IT_Q_n_A/text_file/MKBHD_script.txt'\n",
        "with open(text_path , \"r\") as f:\n",
        "    text = f.read()\n",
        "\n",
        "\n",
        "## 2. Text chunk화\n",
        "def text_splitter(text, chunk_size, chunk_overlap):\n",
        "  \"\"\"\n",
        "  Text를 vector화 하기 위하여 작은 chunk 단위로 분리하는 함수.\n",
        "  단, chroma DB로 만들기 위하여 각 chunk는 Document로 wrapping 해야 함\n",
        "\n",
        "  text: 분리하기 위한 text 전체\n",
        "  chunk_size: 분리를 위한 크기 설정 (현재는 text길이 단우, 향후 token 길이단위로 변경 가)\n",
        "  chunk_overlap: 연결되는 chunk의 겹치는 크기 (text 길이 단위)\n",
        "  \"\"\"\n",
        "  chunk_list = []\n",
        "  chunk_idx = 0\n",
        "  while True:\n",
        "    st_posi = max(chunk_size * chunk_idx - chunk_overlap, 0)\n",
        "    if st_posi >= len(text):\n",
        "      break\n",
        "    end_posi = min(chunk_size * (chunk_idx+1), len(text))\n",
        "\n",
        "    chunk = text[st_posi:end_posi]\n",
        "    chunk_list.append(Document(page_content=chunk,\n",
        "                              metadata={\n",
        "                                  'part' : chunk_idx+1\n",
        "                              }\n",
        "    ))\n",
        "    chunk_idx += 1\n",
        "  return chunk_list\n",
        "chunk_list = text_splitter(text=text, chunk_size=1000, chunk_overlap=20)\n",
        "\n",
        "\n",
        "## 3. Chunk를 embedding vector화 (tokenizer 및 encoding 모델 필요, openai api는 한번에 제공)\n",
        "persist_directory = '/content/drive/MyDrive/IT_Q_n_A/embedding_vectors/MKBHD_v1'\n",
        "embeddings = OpenAIEmbeddings()\n",
        "vectordb = Chroma.from_documents(documents=chunk_list, embedding=embeddings, persist_directory=persist_directory)"
      ],
      "metadata": {
        "colab": {
          "base_uri": "https://localhost:8080/"
        },
        "id": "plPOaHrEKCIj",
        "outputId": "f50ec109-8f07-4371-f80c-a4f12b90c197"
      },
      "execution_count": 7,
      "outputs": [
        {
          "output_type": "stream",
          "name": "stderr",
          "text": [
            "/usr/local/lib/python3.10/dist-packages/langchain_core/_api/deprecation.py:189: LangChainDeprecationWarning: The class `OpenAIEmbeddings` was deprecated in LangChain 0.1.0 and will be removed in 0.2.0. Use langchain_openai.OpenAIEmbeddings instead.\n",
            "  warn_deprecated(\n"
          ]
        }
      ]
    },
    {
      "cell_type": "markdown",
      "source": [
        "## Chroma DB를 LLM에 연결하여 Q&A 시스템을 구축"
      ],
      "metadata": {
        "id": "mrZnXOfbvF0b"
      }
    },
    {
      "cell_type": "code",
      "source": [
        "## 1. Vector DB를 로딩 후 retriever를 위한 시스템 구축\n",
        "embeddings = OpenAIEmbeddings()\n",
        "vectordb = Chroma(persist_directory=persist_directory, embedding_function=embeddings)\n",
        "doc_retriever = vectordb.as_retriever()\n",
        "\n",
        "\n",
        "## 2.LLM 모델 불러오기\n",
        "llm = ChatOpenAI(temperature=0, model=\"gpt-3.5-turbo\")\n",
        "\n",
        "\n",
        "## 3. IT_Q_n_A 시스템 구축하기\n",
        "IT_qna = RetrievalQA.from_chain_type(llm=llm, chain_type=\"stuff\", retriever=doc_retriever)"
      ],
      "metadata": {
        "colab": {
          "base_uri": "https://localhost:8080/"
        },
        "id": "U98ovyKrsZfw",
        "outputId": "98aad118-8d99-4755-ec35-61e188d5289b"
      },
      "execution_count": 11,
      "outputs": [
        {
          "output_type": "stream",
          "name": "stderr",
          "text": [
            "/usr/local/lib/python3.10/dist-packages/langchain_core/_api/deprecation.py:189: LangChainDeprecationWarning: The class `OpenAIEmbeddings` was deprecated in LangChain 0.1.0 and will be removed in 0.2.0. Use langchain_openai.OpenAIEmbeddings instead.\n",
            "  warn_deprecated(\n",
            "/usr/local/lib/python3.10/dist-packages/langchain_core/_api/deprecation.py:189: LangChainDeprecationWarning: The class `ChatOpenAI` was deprecated in LangChain 0.1.0 and will be removed in 0.2.0. Use langchain_openai.ChatOpenAI instead.\n",
            "  warn_deprecated(\n"
          ]
        }
      ]
    },
    {
      "cell_type": "markdown",
      "source": [
        "## Q&A 구동 test"
      ],
      "metadata": {
        "id": "PLdv1V60xl-4"
      }
    },
    {
      "cell_type": "code",
      "source": [
        "answer = IT_qna.run(\"Please tell me what IT products are being introduced\")\n",
        "print(answer)"
      ],
      "metadata": {
        "colab": {
          "base_uri": "https://localhost:8080/"
        },
        "id": "nCFtmJ3Axbi7",
        "outputId": "2ea8b56b-c5f1-4e33-d72c-56e6ff88f223"
      },
      "execution_count": 14,
      "outputs": [
        {
          "output_type": "stream",
          "name": "stderr",
          "text": [
            "/usr/local/lib/python3.10/dist-packages/langchain_core/_api/deprecation.py:189: LangChainDeprecationWarning: The function `run` was deprecated in LangChain 0.1.0 and will be removed in 0.2.0. Use invoke instead.\n",
            "  warn_deprecated(\n",
            "/usr/local/lib/python3.10/dist-packages/langchain_core/_api/deprecation.py:189: LangChainDeprecationWarning: The function `__call__` was deprecated in LangChain 0.1.0 and will be removed in 0.2.0. Use invoke instead.\n",
            "  warn_deprecated(\n",
            "/usr/local/lib/python3.10/dist-packages/langchain_core/_api/deprecation.py:189: LangChainDeprecationWarning: The function `run` was deprecated in LangChain 0.1.0 and will be removed in 0.2.0. Use invoke instead.\n",
            "  warn_deprecated(\n",
            "/usr/local/lib/python3.10/dist-packages/langchain_core/_api/deprecation.py:189: LangChainDeprecationWarning: The function `__call__` was deprecated in LangChain 0.1.0 and will be removed in 0.2.0. Use invoke instead.\n",
            "  warn_deprecated(\n",
            "/usr/local/lib/python3.10/dist-packages/langchain_core/_api/deprecation.py:189: LangChainDeprecationWarning: The function `__call__` was deprecated in LangChain 0.1.0 and will be removed in 0.2.0. Use invoke instead.\n",
            "  warn_deprecated(\n"
          ]
        },
        {
          "output_type": "stream",
          "name": "stdout",
          "text": [
            "Based on the given context, the following IT products are being introduced:\n",
            "\n",
            "1. M2 Pro and M2 Max: These are new products announced earlier this year, along with the new MacBook Pro and Mac Mini. Users have been amazed by their performance.\n",
            "\n",
            "2. Mac Studio Max: This is an entirely new product designed specifically for professionals, offering breakthrough performance and expansion options.\n",
            "\n",
            "3. Apple silicon: Apple is bringing its silicon technology to more Pro products, including Mac Pro and potentially iMac Pro.\n",
            "\n",
            "4. AR platform: Apple is introducing a new AR platform, along with a revolutionary new product called Vision Pro, which delivers advanced AR capabilities.\n",
            "\n",
            "Please note that the given context is not very clear, and some information may be speculative or incomplete.\n"
          ]
        }
      ]
    },
    {
      "cell_type": "code",
      "source": [],
      "metadata": {
        "id": "Cwh6k23iyGQQ"
      },
      "execution_count": null,
      "outputs": []
    }
  ]
}